{
 "cells": [
  {
   "cell_type": "code",
   "execution_count": null,
   "id": "857fd6ac-e122-4647-80fe-ca7320bb2eb2",
   "metadata": {},
   "outputs": [],
   "source": [
    "#pip install --upgrade openai\n"
   ]
  },
  {
   "cell_type": "code",
   "execution_count": null,
   "id": "2728b926-8800-43ed-911e-84114fed8a05",
   "metadata": {},
   "outputs": [],
   "source": [
    "import os\n",
    "import requests\n",
    "from dotenv import load_dotenv\n",
    "from bs4 import BeautifulSoup\n",
    "from IPython.display import Markdown, display\n",
    "import openai"
   ]
  },
  {
   "cell_type": "code",
   "execution_count": null,
   "id": "30e9d7dc-3601-4ad7-8968-facc07e862dc",
   "metadata": {},
   "outputs": [],
   "source": [
    "load_dotenv(override=True)\n",
    "api_key = os.getenv('OPENAI_API_KEY')\n",
    "\n",
    "# Check the key\n",
    "\n",
    "if not api_key:\n",
    "    print(\"No API key was found - please head over to the troubleshooting notebook in this folder to identify & fix!\")\n",
    "elif not api_key.startswith(\"sk-proj-\"):\n",
    "    print(\"An API key was found, but it doesn't start sk-proj-; please check you're using the right key - see troubleshooting notebook\")\n",
    "elif api_key.strip() != api_key:\n",
    "    print(\"An API key was found, but it looks like it might have space or tab characters at the start or end - please remove them - see troubleshooting notebook\")\n",
    "else:\n",
    "    print(\"API key found and looks good so far!\")\n"
   ]
  },
  {
   "cell_type": "code",
   "execution_count": null,
   "id": "17fd4ebd-a201-40e5-870a-2c90d22b09ed",
   "metadata": {},
   "outputs": [],
   "source": [
    "headers = {\n",
    " \"User-Agent\": \"Mozilla/5.0 (Windows NT 10.0; Win64; x64) AppleWebKit/537.36 (KHTML, like Gecko) Chrome/117.0.0.0 Safari/537.36\"\n",
    "}\n",
    "\n",
    "class Website:\n",
    "\n",
    "    def __init__(self, url):\n",
    "        \"\"\"\n",
    "        Create this Website object from the given url using the BeautifulSoup library\n",
    "        \"\"\"\n",
    "        self.url = url\n",
    "        response = requests.get(url, headers=headers)\n",
    "        soup = BeautifulSoup(response.content, 'html.parser')\n",
    "        self.title = soup.title.string if soup.title else \"No title found\"\n",
    "        for irrelevant in soup.body([\"script\", \"style\", \"img\", \"input\"]):\n",
    "            irrelevant.decompose()\n",
    "        self.text = soup.body.get_text(separator=\"\\n\", strip=True)\n",
    "\n",
    "ed = Website(\"https://finance.yahoo.com/news/deepseek-caused-600-billion-freakout-230234215.html?fr=sycsrp_catchall\")\n",
    "print(ed.title)\n",
    "print(ed.text)"
   ]
  },
  {
   "cell_type": "code",
   "execution_count": null,
   "id": "fa30f76f-bfbf-4cb7-8efd-0de5cf301fba",
   "metadata": {},
   "outputs": [],
   "source": [
    "system_prompt = \"You are an advanced summarization AI assistant.Your role is to summarize webpage content into concise, easy-to-understand text.\\\n",
    "Focus on extracting the key points, insights, and relevant context while maintaining a neutral tone.\\\n",
    "The input provided includes metadata and cleaned content from the webpage.\\\n",
    "Ensure the summary is factually accurate and structured in a clear and organized manner.\""
   ]
  },
  {
   "cell_type": "code",
   "execution_count": null,
   "id": "55a87bec-48d5-423d-87d0-e773e4818b85",
   "metadata": {},
   "outputs": [],
   "source": [
    "def user_prompt_for(website):\n",
    "    user_prompt = f\"You are looking at a website titled {website.title}\"\n",
    "    user_prompt += \"\\nThe contents of this website is as follows; \\\n",
    "please provide a short summary of this website in markdown. \\\n",
    "If it includes news or announcements, then summarize these too.\\n\\n\"\n",
    "    user_prompt += website.text\n",
    "    return user_prompt"
   ]
  },
  {
   "cell_type": "code",
   "execution_count": null,
   "id": "084c9002-d49e-4583-abc7-f3b6a98d060d",
   "metadata": {},
   "outputs": [],
   "source": [
    "\n",
    "def messages_for(website):\n",
    "    return [\n",
    "        {\"role\": \"system\", \"content\": system_prompt},\n",
    "        {\"role\": \"user\", \"content\": user_prompt_for(website)}\n",
    "    ]"
   ]
  },
  {
   "cell_type": "code",
   "execution_count": null,
   "id": "26a8a80f-6b0a-42d2-a9da-714e6aba5287",
   "metadata": {},
   "outputs": [],
   "source": [
    "messages_for(ed)"
   ]
  },
  {
   "cell_type": "code",
   "execution_count": null,
   "id": "acc3a3ea-f65f-41f1-8b84-bd52a91cf35e",
   "metadata": {},
   "outputs": [],
   "source": [
    "def summarize(url):\n",
    "    website = Website(url)\n",
    "    response = openai.chat.completions.create(\n",
    "        model = \"gpt-4o-mini\",\n",
    "        messages = messages_for(website)\n",
    "    )\n",
    "    return response.choices[0].message.content"
   ]
  },
  {
   "cell_type": "code",
   "execution_count": null,
   "id": "108b0261-b43d-4d94-afbd-f9390df1e242",
   "metadata": {},
   "outputs": [],
   "source": [
    "summarize(\"https://finance.yahoo.com/news/deepseek-caused-600-billion-freakout-230234215.html?fr=sycsrp_catchall\")"
   ]
  },
  {
   "cell_type": "code",
   "execution_count": null,
   "id": "2f10e505-12ed-4a94-8041-3df9197a99d2",
   "metadata": {},
   "outputs": [],
   "source": [
    "def display_summary(url):\n",
    "    summary = summarize(url)\n",
    "    display(Markdown(summary))"
   ]
  },
  {
   "cell_type": "code",
   "execution_count": null,
   "id": "dc1e41db-7415-4a37-a280-c6bb2b2cce30",
   "metadata": {},
   "outputs": [],
   "source": [
    "display_summary(\"https://finance.yahoo.com/news/deepseek-caused-600-billion-freakout-230234215.html?fr=sycsrp_catchall\")"
   ]
  },
  {
   "cell_type": "code",
   "execution_count": null,
   "id": "9d456b55-0f2a-42d6-88f9-2fc80b7f5cbf",
   "metadata": {},
   "outputs": [],
   "source": []
  }
 ],
 "metadata": {
  "kernelspec": {
   "display_name": "Python 3 (ipykernel)",
   "language": "python",
   "name": "python3"
  },
  "language_info": {
   "codemirror_mode": {
    "name": "ipython",
    "version": 3
   },
   "file_extension": ".py",
   "mimetype": "text/x-python",
   "name": "python",
   "nbconvert_exporter": "python",
   "pygments_lexer": "ipython3",
   "version": "3.11.11"
  }
 },
 "nbformat": 4,
 "nbformat_minor": 5
}
